{
 "cells": [
  {
   "cell_type": "code",
   "execution_count": null,
   "id": "284bf598-2278-49ee-83a9-d5488377abc0",
   "metadata": {},
   "outputs": [],
   "source": [
    "\"\"\"-chi stacvel\n",
    "1․ Գրել հետևյալ ծրագիրը․\n",
    "   - բացել jupyter notebook-ը,\n",
    "   - գեներացնել list, որը կպարունակի 1-ից 1_000_000 միջակայքում գտնվող կենտ թվերը,\n",
    "   - պահել գեներացված list-ը համապատասխան ֆորմատով համակարգչի մեջ data անունով,\n",
    "   - բացել pycharm-ը,\n",
    "   - pycharm-ում կարդալ data ֆայլը,\n",
    "   - կարդացած list-ում կթողնի միայն 3-ի բաժանվող թվերը,\n",
    "   - կտպի ստացված list-ի արժեքների միջին թվաբանականը։\n",
    "\"\"\""
   ]
  },
  {
   "cell_type": "code",
   "execution_count": 35,
   "id": "380e7b50-8d14-4169-8970-1af7dd7e6717",
   "metadata": {},
   "outputs": [],
   "source": [
    "lst=[]\n",
    "lst=[i for i in range(1,1_000_000,2)]\n",
    "    \n"
   ]
  },
  {
   "cell_type": "code",
   "execution_count": null,
   "id": "c0d3bad9-93c6-46a5-b421-c4890072652b",
   "metadata": {},
   "outputs": [],
   "source": [
    "\"\"\"\n",
    "2․ Գրել ծրագիր, որը․\n",
    "   - հետևյալ dict_1-ից կստանա նոր dict_2 այնպես, որ dict_2-ի key-երը լինեն dict_1-ի value-ները, \n",
    "     իսկ value-ները՝ dict_1-ի value-ների երկարությունները,\n",
    "   օրինակ՝ dict_1 = {1: 'red', 2: 'green', 3: 'black', 4: 'white', 5: 'black'},\n",
    "   պետք է ստացվի՝ dict_2 = {'red': 3, 'green': 5, 'black': 5, 'white': 5}:\n",
    "\"\"\""
   ]
  },
  {
   "cell_type": "code",
   "execution_count": 10,
   "id": "272ca342-d322-4ed8-bfa6-672a82143c91",
   "metadata": {},
   "outputs": [
    {
     "name": "stdout",
     "output_type": "stream",
     "text": [
      "{'red': 3, 'green': 5, 'black': 5, 'white': 5}\n"
     ]
    }
   ],
   "source": [
    "dict1 = {1: 'red', 2: 'green', 3: 'black', 4: 'white', 5: 'black'}\n",
    "dict2={}\n",
    "for i in dict1:\n",
    "    dict2[dict1[i]]=len(dict1[i])\n",
    "print(dict2)\n",
    "    "
   ]
  },
  {
   "cell_type": "code",
   "execution_count": null,
   "id": "62863f76-2189-4474-b3d0-06081bf0ddb0",
   "metadata": {},
   "outputs": [],
   "source": [
    "\"\"\"\n",
    "3. Գրել ֆունկցիա, որը․\n",
    "   - կֆիլտրի տրված dictionary-ի value-ները, թողնելով միայն կենտ թվերը,\n",
    "   - կվերադարձնի ստացված dictionary-ն,\n",
    "   օրինակ՝ {'a': [1, 8, 3, 7, 2], 'b': [12, 4, 8, 4], 'c': [9, 9, 2, 8, 5]},\n",
    "   պետք է ստացվի՝ {'a': [1, 3, 7], 'b': [], 'c': [9, 9, 5]}:\n",
    "\"\"\""
   ]
  },
  {
   "cell_type": "code",
   "execution_count": 33,
   "id": "71d33d43-e98b-4e4f-b62e-105cd60ff109",
   "metadata": {},
   "outputs": [
    {
     "name": "stdout",
     "output_type": "stream",
     "text": [
      "{'a': [1, 3, 7], 'b': [], 'c': [9, 9, 5]}\n"
     ]
    }
   ],
   "source": [
    "d={'a': [1, 8, 3, 7, 2], 'b': [12, 4, 8, 4], 'c': [9, 9, 2, 8, 5]}\n",
    "d2={}\n",
    "def key_is_list(dict):\n",
    "    for i in dict.values():\n",
    "        if type(i)==list:\n",
    "           for j in range(len(i)-1,-1,-1):\n",
    "              if i[j]%2==0:\n",
    "                i.remove(i[j])\n",
    "                  \n",
    "    return d\n",
    "    \n",
    "# f=filter(key_is_list,d)\n",
    "# print(f)\n",
    "print(key_is_list(d))"
   ]
  },
  {
   "cell_type": "code",
   "execution_count": null,
   "id": "628d3d85-cbda-43b5-bdf1-6957d7be85bb",
   "metadata": {},
   "outputs": [],
   "source": []
  },
  {
   "cell_type": "code",
   "execution_count": null,
   "id": "bd0c2037-83eb-46be-b486-6adee66d5783",
   "metadata": {},
   "outputs": [],
   "source": []
  }
 ],
 "metadata": {
  "kernelspec": {
   "display_name": "Python 3 (ipykernel)",
   "language": "python",
   "name": "python3"
  },
  "language_info": {
   "codemirror_mode": {
    "name": "ipython",
    "version": 3
   },
   "file_extension": ".py",
   "mimetype": "text/x-python",
   "name": "python",
   "nbconvert_exporter": "python",
   "pygments_lexer": "ipython3",
   "version": "3.13.7"
  }
 },
 "nbformat": 4,
 "nbformat_minor": 5
}
